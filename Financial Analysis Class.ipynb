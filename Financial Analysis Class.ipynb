{
 "cells": [
  {
   "cell_type": "markdown",
   "id": "5645e8cb",
   "metadata": {},
   "source": [
    "# The Financial Instruments Class \n",
    "Goal: Analyzing Financial Instruments efficiently "
   ]
  },
  {
   "cell_type": "markdown",
   "id": "dc3e3957",
   "metadata": {},
   "source": [
    "## Financial Instrument Class"
   ]
  },
  {
   "cell_type": "code",
   "execution_count": 1,
   "id": "d23d4a43",
   "metadata": {},
   "outputs": [
    {
     "name": "stderr",
     "output_type": "stream",
     "text": [
      "C:\\Users\\FUTURE LAPTOP\\AppData\\Local\\Temp\\ipykernel_8628\\1976654883.py:5: MatplotlibDeprecationWarning: The seaborn styles shipped by Matplotlib are deprecated since 3.6, as they no longer correspond to the styles shipped by seaborn. However, they will remain available as 'seaborn-v0_8-<style>'. Alternatively, directly use the seaborn API instead.\n",
      "  plt.style.use(\"seaborn\")\n"
     ]
    }
   ],
   "source": [
    "import pandas as pd\n",
    "import numpy as np\n",
    "import yfinance as yf\n",
    "import matplotlib.pyplot as plt\n",
    "plt.style.use(\"seaborn\")"
   ]
  },
  {
   "cell_type": "code",
   "execution_count": 25,
   "id": "ad224eee",
   "metadata": {},
   "outputs": [],
   "source": [
    "class FinancialInstrument(): # Parent Class\n",
    "    '''Class to analyze financial instruments\n",
    "    \n",
    "    Attributes\n",
    "    ==========\n",
    "    ticker: str \n",
    "        ticker symbol with which to work\n",
    "    start: str \n",
    "        start date for data retrieval\n",
    "    end: str\n",
    "        end date for data retrieval\n",
    "        \n",
    "    Methods\n",
    "    =======\n",
    "    get_data:\n",
    "        retrieves daily price data(from yahoo finance) and prepares the data\n",
    "    log_returns:\n",
    "        calculates log returns\n",
    "    plot_prices:\n",
    "        creates a price chart \n",
    "    set_ticker:\n",
    "        sets a new ticker \n",
    "    mean_return:\n",
    "        calculates mean return\n",
    "    std_returns:\n",
    "        calculates the standard deviation of returns(risk)\n",
    "    ''' \n",
    "    \n",
    "    def __init__(self,ticker, start,end):\n",
    "        self._ticker = ticker\n",
    "        self.start  = start\n",
    "        self.end    = end\n",
    "        self.get_data()\n",
    "        self.log_returns()\n",
    "    \n",
    "    \n",
    "    def __repr__(self):\n",
    "        ''' Class representation for a more readable format '''\n",
    "        return \"FinancialInstrument(ticker = {}, start = {}, end = {} )\".format(self._ticker, self.start, self.end)\n",
    "        \n",
    "   \n",
    "    def get_data(self):\n",
    "        ''' Retrieves (from Yahoo Finance) and prepares the data'''\n",
    "        raw = yf.download(self._ticker, self.start, self.end).Close.to_frame()\n",
    "        raw.rename(columns = {\"Close\":\"price\"}, inplace = True)\n",
    "        self.data = raw\n",
    "     \n",
    "\n",
    "    def log_returns(self):\n",
    "        ''' Calculates Log Returns'''\n",
    "        self.data[\"log_returns\"] = np.log(self.data.price/self.data.price.shift(1))\n",
    "     \n",
    "    \n",
    "    def plot_prices(self):\n",
    "        ''' Creates a Price Chart'''\n",
    "        self.data.price.plot(figsize = (12,8))\n",
    "        plt.title(\"Price Chart: {}\".format(self._ticker), fontsize = 15)\n",
    "        \n",
    "    def plot_returns(self, kind = \"ts\"):\n",
    "        '''plots log returns either as time series (\"ts\") or as histogram (\"hist\")'''  \n",
    "        if kind == \"ts\":\n",
    "            self.data.log_returns.plot(figsize =(12,8))\n",
    "            plt.title(\"Returns:{}\".format(self._ticker), fontsize = 15)\n",
    "        elif kind == \"hist\":\n",
    "            self.data.log_returns.hist(figsize = (12,8), bins = int(np.sqrt(len(self.data))))\n",
    "            plt.title(\"Frequency of Returns: {}\".format(self._ticker), fontsize = 15)\n",
    "    \n",
    "    \n",
    "    def set_ticker(self, ticker = None):\n",
    "        ''' Sets a new ticker'''\n",
    "        if ticker is not None: \n",
    "            self._ticker = ticker\n",
    "            self.get_data()\n",
    "            self.log_returns()\n",
    "        \n",
    "        "
   ]
  },
  {
   "cell_type": "code",
   "execution_count": 26,
   "id": "38b7468d",
   "metadata": {
    "code_folding": []
   },
   "outputs": [],
   "source": [
    "class RiskReturn(FinancialInstrument):  # Child Class\n",
    "    \n",
    "    '''This a Child Class to FinancialInstrument Class used for calculating risk and returns.\n",
    "    \n",
    "    Attributes\n",
    "    ==========\n",
    "    freq: str\n",
    "        used to retrieve periodic data such as 'd' daily, 'w' weekly, 'm' monthly, 'q' quarterly and 'y' yearly. \n",
    "    \n",
    "    Methods\n",
    "    =======\n",
    "    mean_return:\n",
    "        calculates mean return\n",
    "    std_returns:\n",
    "        calculates the standard deviation of returns(risk)\n",
    "    annualized_perf:\n",
    "        Calculates annualized returns and risk\n",
    "        \n",
    "    '''\n",
    "    \n",
    "    \n",
    "    def __init__(self, ticker, start, end, freq = None): \n",
    "        self.freq = freq\n",
    "        super().__init__(ticker,start,end) # With Super function we can re access the dunder init attributes from\n",
    "                                           # the parent class.\n",
    "    \n",
    "    \n",
    "     # Class representation for a more readable format, in this case the child class's method will overwride the parent's \n",
    "     # method.\n",
    "    \n",
    "    def __repr__(self):\n",
    "        '''Class representation for a more readable format, in this case the child class's method will overwride the parent's \n",
    "           method.''' \n",
    "        return \"RiskReturn(ticker = {}, start = {}, end = {} )\".format(self._ticker, self.start, self.end)\n",
    "    \n",
    "    def mean_return(self):\n",
    "        '''Calculates mean return''' \n",
    "        if self.freq is None:\n",
    "            return self.data.log_returns.mean()\n",
    "        else:\n",
    "            resampled_price = self.data.price.resample(self.freq).last()\n",
    "            resampled_returns = np.log(resampled_price/ resampled_price.shift(1))\n",
    "            return resampled_returns.mean()\n",
    "        \n",
    "    def std_returns(self):\n",
    "        '''Calculates standard deviation of returns (risk) ''' \n",
    "        if self.freq is None:\n",
    "            return self.data.log_returns.std()\n",
    "        else: \n",
    "            resampled_price = self.data.price.resample(self.freq).last()\n",
    "            resampled_returns = np.log(resampled_price/resampled_price.shift(1))\n",
    "            return resampled_returns.std()\n",
    "        \n",
    "    def annualized_perf(self):\n",
    "        '''Calculates annualized returns and risk''' \n",
    "        mean_return = round(self.data.log_returns.mean()*252,3)  # Rounded to three decimal places\n",
    "        risk = round(self.data.log_returns.std()*np.sqrt(252),3) # Rounded to three decimal places\n",
    "        print(\"Return:{} | Risk: {}\".format(mean_return, risk))\n",
    "        "
   ]
  },
  {
   "cell_type": "code",
   "execution_count": 27,
   "id": "89ef66b1",
   "metadata": {},
   "outputs": [
    {
     "name": "stdout",
     "output_type": "stream",
     "text": [
      "[*********************100%***********************]  1 of 1 completed\n"
     ]
    }
   ],
   "source": [
    "stock = FinancialInstrument(\"aapl\", \"2015-01-01\", \"2019-01-01\")"
   ]
  },
  {
   "cell_type": "code",
   "execution_count": 28,
   "id": "c8abc149",
   "metadata": {},
   "outputs": [
    {
     "data": {
      "text/plain": [
       "FinancialInstrument(ticker = aapl, start = 2015-01-01, end = 2019-01-01 )"
      ]
     },
     "execution_count": 28,
     "metadata": {},
     "output_type": "execute_result"
    }
   ],
   "source": [
    "stock"
   ]
  },
  {
   "cell_type": "code",
   "execution_count": 29,
   "id": "77b3a0ac",
   "metadata": {},
   "outputs": [
    {
     "data": {
      "image/png": "[encoded data removed]",
      "text/plain": [
       "<Figure size 1200x800 with 1 Axes>"
      ]
     },
     "metadata": {},
     "output_type": "display_data"
    }
   ],
   "source": [
    "stock.plot_returns(\"hist\")"
   ]
  },
  {
   "cell_type": "code",
   "execution_count": 31,
   "id": "d2486f94",
   "metadata": {},
   "outputs": [
    {
     "data": {
      "text/html": [
       "<div>\n",
       "<style scoped>\n",
       "    .dataframe tbody tr th:only-of-type {\n",
       "        vertical-align: middle;\n",
       "    }\n",
       "\n",
       "    .dataframe tbody tr th {\n",
       "        vertical-align: top;\n",
       "    }\n",
       "\n",
       "    .dataframe thead th {\n",
       "        text-align: right;\n",
       "    }\n",
       "</style>\n",
       "<table border=\"1\" class=\"dataframe\">\n",
       "  <thead>\n",
       "    <tr style=\"text-align: right;\">\n",
       "      <th></th>\n",
       "      <th>price</th>\n",
       "      <th>log_returns</th>\n",
       "    </tr>\n",
       "    <tr>\n",
       "      <th>Date</th>\n",
       "      <th></th>\n",
       "      <th></th>\n",
       "    </tr>\n",
       "  </thead>\n",
       "  <tbody>\n",
       "    <tr>\n",
       "      <th>2015-01-02</th>\n",
       "      <td>27.332500</td>\n",
       "      <td>NaN</td>\n",
       "    </tr>\n",
       "    <tr>\n",
       "      <th>2015-01-05</th>\n",
       "      <td>26.562500</td>\n",
       "      <td>-0.028576</td>\n",
       "    </tr>\n",
       "    <tr>\n",
       "      <th>2015-01-06</th>\n",
       "      <td>26.565001</td>\n",
       "      <td>0.000094</td>\n",
       "    </tr>\n",
       "    <tr>\n",
       "      <th>2015-01-07</th>\n",
       "      <td>26.937500</td>\n",
       "      <td>0.013925</td>\n",
       "    </tr>\n",
       "    <tr>\n",
       "      <th>2015-01-08</th>\n",
       "      <td>27.972500</td>\n",
       "      <td>0.037703</td>\n",
       "    </tr>\n",
       "    <tr>\n",
       "      <th>...</th>\n",
       "      <td>...</td>\n",
       "      <td>...</td>\n",
       "    </tr>\n",
       "    <tr>\n",
       "      <th>2018-12-24</th>\n",
       "      <td>36.707500</td>\n",
       "      <td>-0.026215</td>\n",
       "    </tr>\n",
       "    <tr>\n",
       "      <th>2018-12-26</th>\n",
       "      <td>39.292500</td>\n",
       "      <td>0.068053</td>\n",
       "    </tr>\n",
       "    <tr>\n",
       "      <th>2018-12-27</th>\n",
       "      <td>39.037498</td>\n",
       "      <td>-0.006511</td>\n",
       "    </tr>\n",
       "    <tr>\n",
       "      <th>2018-12-28</th>\n",
       "      <td>39.057499</td>\n",
       "      <td>0.000512</td>\n",
       "    </tr>\n",
       "    <tr>\n",
       "      <th>2018-12-31</th>\n",
       "      <td>39.435001</td>\n",
       "      <td>0.009619</td>\n",
       "    </tr>\n",
       "  </tbody>\n",
       "</table>\n",
       "<p>1006 rows × 2 columns</p>\n",
       "</div>"
      ],
      "text/plain": [
       "                price  log_returns\n",
       "Date                              \n",
       "2015-01-02  27.332500          NaN\n",
       "2015-01-05  26.562500    -0.028576\n",
       "2015-01-06  26.565001     0.000094\n",
       "2015-01-07  26.937500     0.013925\n",
       "2015-01-08  27.972500     0.037703\n",
       "...               ...          ...\n",
       "2018-12-24  36.707500    -0.026215\n",
       "2018-12-26  39.292500     0.068053\n",
       "2018-12-27  39.037498    -0.006511\n",
       "2018-12-28  39.057499     0.000512\n",
       "2018-12-31  39.435001     0.009619\n",
       "\n",
       "[1006 rows x 2 columns]"
      ]
     },
     "execution_count": 31,
     "metadata": {},
     "output_type": "execute_result"
    }
   ],
   "source": [
    "stock.data"
   ]
  },
  {
   "cell_type": "code",
   "execution_count": null,
   "id": "1f3499da",
   "metadata": {},
   "outputs": [],
   "source": []
  },
  {
   "cell_type": "code",
   "execution_count": null,
   "id": "7d62429e",
   "metadata": {},
   "outputs": [],
   "source": []
  },
  {
   "cell_type": "code",
   "execution_count": null,
   "id": "0a70b12b",
   "metadata": {},
   "outputs": [],
   "source": []
  },
  {
   "cell_type": "code",
   "execution_count": null,
   "id": "86130deb",
   "metadata": {},
   "outputs": [],
   "source": []
  },
  {
   "cell_type": "markdown",
   "id": "828fb6d4",
   "metadata": {},
   "source": [
    "### The Method Get Data"
   ]
  },
  {
   "cell_type": "markdown",
   "id": "a9161c71",
   "metadata": {},
   "source": [
    "### Instantiation "
   ]
  },
  {
   "cell_type": "markdown",
   "id": "d3535a48",
   "metadata": {},
   "source": [
    "### Attributes "
   ]
  },
  {
   "cell_type": "markdown",
   "id": "22f4aa50",
   "metadata": {},
   "source": [
    "### Methods"
   ]
  }
 ],
 "metadata": {
  "kernelspec": {
   "display_name": "Python 3 (ipykernel)",
   "language": "python",
   "name": "python3"
  },
  "language_info": {
   "codemirror_mode": {
    "name": "ipython",
    "version": 3
   },
   "file_extension": ".py",
   "mimetype": "text/x-python",
   "name": "python",
   "nbconvert_exporter": "python",
   "pygments_lexer": "ipython3",
   "version": "3.10.9"
  }
 },
 "nbformat": 4,
 "nbformat_minor": 5
}
